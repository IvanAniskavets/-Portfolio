{
 "cells": [
  {
   "cell_type": "code",
   "execution_count": 242,
   "metadata": {},
   "outputs": [],
   "source": [
    "import matplotlib.pyplot as plt\n",
    "import pandas as pd\n",
    "import numpy as np "
   ]
  },
  {
   "cell_type": "code",
   "execution_count": 243,
   "metadata": {},
   "outputs": [],
   "source": [
    "from pylab import rcParams\n",
    "rcParams['figure.figsize'] = 13,6"
   ]
  },
  {
   "cell_type": "code",
   "execution_count": 244,
   "metadata": {},
   "outputs": [],
   "source": [
    "df = pd.read_csv('C:/Netology/netflix_titles.csv', na_values='NaN')"
   ]
  },
  {
   "cell_type": "code",
   "execution_count": 245,
   "metadata": {},
   "outputs": [
    {
     "name": "stdout",
     "output_type": "stream",
     "text": [
      "(6234, 12)\n"
     ]
    }
   ],
   "source": [
    "print(df.shape)"
   ]
  },
  {
   "cell_type": "code",
   "execution_count": 246,
   "metadata": {},
   "outputs": [
    {
     "name": "stdout",
     "output_type": "stream",
     "text": [
      "<class 'pandas.core.frame.DataFrame'>\n",
      "RangeIndex: 6234 entries, 0 to 6233\n",
      "Data columns (total 12 columns):\n",
      " #   Column        Non-Null Count  Dtype \n",
      "---  ------        --------------  ----- \n",
      " 0   show_id       6234 non-null   int64 \n",
      " 1   type          6234 non-null   object\n",
      " 2   title         6234 non-null   object\n",
      " 3   director      4265 non-null   object\n",
      " 4   cast          5664 non-null   object\n",
      " 5   country       5758 non-null   object\n",
      " 6   date_added    6223 non-null   object\n",
      " 7   release_year  6234 non-null   int64 \n",
      " 8   rating        6224 non-null   object\n",
      " 9   duration      6234 non-null   object\n",
      " 10  listed_in     6234 non-null   object\n",
      " 11  description   6234 non-null   object\n",
      "dtypes: int64(2), object(10)\n",
      "memory usage: 584.6+ KB\n"
     ]
    }
   ],
   "source": [
    "df.info()"
   ]
  },
  {
   "cell_type": "code",
   "execution_count": 247,
   "metadata": {},
   "outputs": [
    {
     "data": {
      "text/html": [
       "<div>\n",
       "<style scoped>\n",
       "    .dataframe tbody tr th:only-of-type {\n",
       "        vertical-align: middle;\n",
       "    }\n",
       "\n",
       "    .dataframe tbody tr th {\n",
       "        vertical-align: top;\n",
       "    }\n",
       "\n",
       "    .dataframe thead th {\n",
       "        text-align: right;\n",
       "    }\n",
       "</style>\n",
       "<table border=\"1\" class=\"dataframe\">\n",
       "  <thead>\n",
       "    <tr style=\"text-align: right;\">\n",
       "      <th></th>\n",
       "      <th>show_id</th>\n",
       "      <th>type</th>\n",
       "      <th>title</th>\n",
       "      <th>director</th>\n",
       "      <th>cast</th>\n",
       "      <th>country</th>\n",
       "      <th>date_added</th>\n",
       "      <th>release_year</th>\n",
       "      <th>rating</th>\n",
       "      <th>duration</th>\n",
       "      <th>listed_in</th>\n",
       "      <th>description</th>\n",
       "    </tr>\n",
       "  </thead>\n",
       "  <tbody>\n",
       "    <tr>\n",
       "      <th>0</th>\n",
       "      <td>81145628</td>\n",
       "      <td>Movie</td>\n",
       "      <td>Norm of the North: King Sized Adventure</td>\n",
       "      <td>Richard Finn, Tim Maltby</td>\n",
       "      <td>Alan Marriott, Andrew Toth, Brian Dobson, Cole...</td>\n",
       "      <td>United States, India, South Korea, China</td>\n",
       "      <td>September 9, 2019</td>\n",
       "      <td>2019</td>\n",
       "      <td>TV-PG</td>\n",
       "      <td>90 min</td>\n",
       "      <td>Children &amp; Family Movies, Comedies</td>\n",
       "      <td>Before planning an awesome wedding for his gra...</td>\n",
       "    </tr>\n",
       "    <tr>\n",
       "      <th>1</th>\n",
       "      <td>80117401</td>\n",
       "      <td>Movie</td>\n",
       "      <td>Jandino: Whatever it Takes</td>\n",
       "      <td>NaN</td>\n",
       "      <td>Jandino Asporaat</td>\n",
       "      <td>United Kingdom</td>\n",
       "      <td>September 9, 2016</td>\n",
       "      <td>2016</td>\n",
       "      <td>TV-MA</td>\n",
       "      <td>94 min</td>\n",
       "      <td>Stand-Up Comedy</td>\n",
       "      <td>Jandino Asporaat riffs on the challenges of ra...</td>\n",
       "    </tr>\n",
       "    <tr>\n",
       "      <th>2</th>\n",
       "      <td>70234439</td>\n",
       "      <td>TV Show</td>\n",
       "      <td>Transformers Prime</td>\n",
       "      <td>NaN</td>\n",
       "      <td>Peter Cullen, Sumalee Montano, Frank Welker, J...</td>\n",
       "      <td>United States</td>\n",
       "      <td>September 8, 2018</td>\n",
       "      <td>2013</td>\n",
       "      <td>TV-Y7-FV</td>\n",
       "      <td>1 Season</td>\n",
       "      <td>Kids' TV</td>\n",
       "      <td>With the help of three human allies, the Autob...</td>\n",
       "    </tr>\n",
       "    <tr>\n",
       "      <th>3</th>\n",
       "      <td>80058654</td>\n",
       "      <td>TV Show</td>\n",
       "      <td>Transformers: Robots in Disguise</td>\n",
       "      <td>NaN</td>\n",
       "      <td>Will Friedle, Darren Criss, Constance Zimmer, ...</td>\n",
       "      <td>United States</td>\n",
       "      <td>September 8, 2018</td>\n",
       "      <td>2016</td>\n",
       "      <td>TV-Y7</td>\n",
       "      <td>1 Season</td>\n",
       "      <td>Kids' TV</td>\n",
       "      <td>When a prison ship crash unleashes hundreds of...</td>\n",
       "    </tr>\n",
       "    <tr>\n",
       "      <th>4</th>\n",
       "      <td>80125979</td>\n",
       "      <td>Movie</td>\n",
       "      <td>#realityhigh</td>\n",
       "      <td>Fernando Lebrija</td>\n",
       "      <td>Nesta Cooper, Kate Walsh, John Michael Higgins...</td>\n",
       "      <td>United States</td>\n",
       "      <td>September 8, 2017</td>\n",
       "      <td>2017</td>\n",
       "      <td>TV-14</td>\n",
       "      <td>99 min</td>\n",
       "      <td>Comedies</td>\n",
       "      <td>When nerdy high schooler Dani finally attracts...</td>\n",
       "    </tr>\n",
       "  </tbody>\n",
       "</table>\n",
       "</div>"
      ],
      "text/plain": [
       "    show_id     type                                    title  \\\n",
       "0  81145628    Movie  Norm of the North: King Sized Adventure   \n",
       "1  80117401    Movie               Jandino: Whatever it Takes   \n",
       "2  70234439  TV Show                       Transformers Prime   \n",
       "3  80058654  TV Show         Transformers: Robots in Disguise   \n",
       "4  80125979    Movie                             #realityhigh   \n",
       "\n",
       "                   director  \\\n",
       "0  Richard Finn, Tim Maltby   \n",
       "1                       NaN   \n",
       "2                       NaN   \n",
       "3                       NaN   \n",
       "4          Fernando Lebrija   \n",
       "\n",
       "                                                cast  \\\n",
       "0  Alan Marriott, Andrew Toth, Brian Dobson, Cole...   \n",
       "1                                   Jandino Asporaat   \n",
       "2  Peter Cullen, Sumalee Montano, Frank Welker, J...   \n",
       "3  Will Friedle, Darren Criss, Constance Zimmer, ...   \n",
       "4  Nesta Cooper, Kate Walsh, John Michael Higgins...   \n",
       "\n",
       "                                    country         date_added  release_year  \\\n",
       "0  United States, India, South Korea, China  September 9, 2019          2019   \n",
       "1                            United Kingdom  September 9, 2016          2016   \n",
       "2                             United States  September 8, 2018          2013   \n",
       "3                             United States  September 8, 2018          2016   \n",
       "4                             United States  September 8, 2017          2017   \n",
       "\n",
       "     rating  duration                           listed_in  \\\n",
       "0     TV-PG    90 min  Children & Family Movies, Comedies   \n",
       "1     TV-MA    94 min                     Stand-Up Comedy   \n",
       "2  TV-Y7-FV  1 Season                            Kids' TV   \n",
       "3     TV-Y7  1 Season                            Kids' TV   \n",
       "4     TV-14    99 min                            Comedies   \n",
       "\n",
       "                                         description  \n",
       "0  Before planning an awesome wedding for his gra...  \n",
       "1  Jandino Asporaat riffs on the challenges of ra...  \n",
       "2  With the help of three human allies, the Autob...  \n",
       "3  When a prison ship crash unleashes hundreds of...  \n",
       "4  When nerdy high schooler Dani finally attracts...  "
      ]
     },
     "execution_count": 247,
     "metadata": {},
     "output_type": "execute_result"
    }
   ],
   "source": [
    "df.head()"
   ]
  },
  {
   "cell_type": "code",
   "execution_count": 248,
   "metadata": {},
   "outputs": [
    {
     "data": {
      "text/plain": [
       "['TV Show', 'Movie']"
      ]
     },
     "execution_count": 248,
     "metadata": {},
     "output_type": "execute_result"
    }
   ],
   "source": [
    "#найдем типы кино встречаемы в датасете\n",
    "\n",
    "types = list(set(list(df.type)))\n",
    "types"
   ]
  },
  {
   "cell_type": "code",
   "execution_count": 249,
   "metadata": {},
   "outputs": [
    {
     "data": {
      "text/plain": [
       "{'TV Show': 1969, 'Movie': 4265}"
      ]
     },
     "execution_count": 249,
     "metadata": {},
     "output_type": "execute_result"
    }
   ],
   "source": [
    "res={}\n",
    "for el in types:\n",
    "    res[el] = list(df.type).count(el)  #подсчет количества вхождений в датасет\n",
    "res"
   ]
  },
  {
   "cell_type": "markdown",
   "metadata": {},
   "source": [
    "## Выведем гистраграмму сравнения количества фильмов и сериалов в датасете Netflix"
   ]
  },
  {
   "cell_type": "code",
   "execution_count": 250,
   "metadata": {},
   "outputs": [
    {
     "data": {
      "image/png": "[encoded data removed]",
      "text/plain": [
       "<Figure size 936x432 with 1 Axes>"
      ]
     },
     "metadata": {
      "needs_background": "light"
     },
     "output_type": "display_data"
    }
   ],
   "source": [
    "# выведем гистаграмму сравнивающую количество фильмов с количеством сериалов в датасете\n",
    "\n",
    "x=list(res.keys())\n",
    "y=list(res.values())\n",
    "plt.subplot()\n",
    "plt.bar(x, y, color='orange')\n",
    "plt.title('Фильмы и сериалы')\n",
    "plt.ylabel('Количество')\n",
    "plt.show()"
   ]
  },
  {
   "cell_type": "code",
   "execution_count": 251,
   "metadata": {},
   "outputs": [
    {
     "data": {
      "text/html": [
       "<div>\n",
       "<style scoped>\n",
       "    .dataframe tbody tr th:only-of-type {\n",
       "        vertical-align: middle;\n",
       "    }\n",
       "\n",
       "    .dataframe tbody tr th {\n",
       "        vertical-align: top;\n",
       "    }\n",
       "\n",
       "    .dataframe thead th {\n",
       "        text-align: right;\n",
       "    }\n",
       "</style>\n",
       "<table border=\"1\" class=\"dataframe\">\n",
       "  <thead>\n",
       "    <tr style=\"text-align: right;\">\n",
       "      <th></th>\n",
       "      <th>index</th>\n",
       "      <th>0</th>\n",
       "    </tr>\n",
       "  </thead>\n",
       "  <tbody>\n",
       "    <tr>\n",
       "      <th>0</th>\n",
       "      <td>TV Show</td>\n",
       "      <td>1969</td>\n",
       "    </tr>\n",
       "    <tr>\n",
       "      <th>1</th>\n",
       "      <td>Movie</td>\n",
       "      <td>4265</td>\n",
       "    </tr>\n",
       "  </tbody>\n",
       "</table>\n",
       "</div>"
      ],
      "text/plain": [
       "     index     0\n",
       "0  TV Show  1969\n",
       "1    Movie  4265"
      ]
     },
     "execution_count": 251,
     "metadata": {},
     "output_type": "execute_result"
    }
   ],
   "source": [
    "table_content = pd.DataFrame()\n",
    "table_content = pd.concat([table_content, pd.DataFrame([res])]).T\n",
    "table_content.reset_index().head()"
   ]
  },
  {
   "cell_type": "code",
   "execution_count": 252,
   "metadata": {},
   "outputs": [
    {
     "data": {
      "text/html": [
       "<div>\n",
       "<style scoped>\n",
       "    .dataframe tbody tr th:only-of-type {\n",
       "        vertical-align: middle;\n",
       "    }\n",
       "\n",
       "    .dataframe tbody tr th {\n",
       "        vertical-align: top;\n",
       "    }\n",
       "\n",
       "    .dataframe thead th {\n",
       "        text-align: right;\n",
       "    }\n",
       "</style>\n",
       "<table border=\"1\" class=\"dataframe\">\n",
       "  <thead>\n",
       "    <tr style=\"text-align: right;\">\n",
       "      <th></th>\n",
       "      <th>Количество</th>\n",
       "    </tr>\n",
       "  </thead>\n",
       "  <tbody>\n",
       "    <tr>\n",
       "      <th>TV Show</th>\n",
       "      <td>1969</td>\n",
       "    </tr>\n",
       "    <tr>\n",
       "      <th>Movie</th>\n",
       "      <td>4265</td>\n",
       "    </tr>\n",
       "  </tbody>\n",
       "</table>\n",
       "</div>"
      ],
      "text/plain": [
       "         Количество\n",
       "TV Show        1969\n",
       "Movie          4265"
      ]
     },
     "execution_count": 252,
     "metadata": {},
     "output_type": "execute_result"
    }
   ],
   "source": [
    "table_content.rename(columns={0:'Количество'}, inplace=True)\n",
    "table_content"
   ]
  },
  {
   "cell_type": "markdown",
   "metadata": {},
   "source": [
    "## Выведем круговую диаграмму сравнения количества фильмов и сериалов в датасете Netflix"
   ]
  },
  {
   "cell_type": "code",
   "execution_count": 253,
   "metadata": {},
   "outputs": [
    {
     "data": {
      "image/png": "[encoded data removed]",
      "text/plain": [
       "<Figure size 936x432 with 1 Axes>"
      ]
     },
     "metadata": {},
     "output_type": "display_data"
    }
   ],
   "source": [
    "ax = table_content.plot(kind='pie', title='Фильмы и сериалы', subplots=True, explode=[0.3, 0], autopct='%1.1f%%', startangle=180)"
   ]
  },
  {
   "cell_type": "code",
   "execution_count": 254,
   "metadata": {},
   "outputs": [
    {
     "data": {
      "text/plain": [
       "13670"
      ]
     },
     "execution_count": 254,
     "metadata": {},
     "output_type": "execute_result"
    }
   ],
   "source": [
    "list_genres = list(df.listed_in)\n",
    "\n",
    "all_genres=[]    #список всех жанров в датасете\n",
    "for index in range(len(list_genres)):\n",
    "    if type(list_genres[index])!= float:\n",
    "        if list_genres[index].find(','):\n",
    "            all_genres.extend(list_genres[index].split(', '))\n",
    "        else:\n",
    "            all_genres.extend(list_genres[index])\n",
    "        \n",
    "len(all_genres)"
   ]
  },
  {
   "cell_type": "code",
   "execution_count": 257,
   "metadata": {},
   "outputs": [
    {
     "data": {
      "text/plain": [
       "{'Children & Family Movies': 378,\n",
       " 'Comedies': 1113,\n",
       " 'Stand-Up Comedy': 281,\n",
       " \"Kids' TV\": 328,\n",
       " 'Crime TV Shows': 363,\n",
       " 'International TV Shows': 1001,\n",
       " 'Spanish-Language TV Shows': 117,\n",
       " 'International Movies': 1927,\n",
       " 'Sci-Fi & Fantasy': 193,\n",
       " 'Thrillers': 392,\n",
       " 'Docuseries': 279,\n",
       " 'Science & Nature TV': 67,\n",
       " 'Action & Adventure': 597,\n",
       " 'Dramas': 1623,\n",
       " 'Cult Movies': 55,\n",
       " 'Independent Movies': 552,\n",
       " 'Romantic Movies': 376,\n",
       " 'Documentaries': 668,\n",
       " 'Horror Movies': 262,\n",
       " 'Romantic TV Shows': 278,\n",
       " 'TV Comedies': 436,\n",
       " 'TV Dramas': 599,\n",
       " 'TV Thrillers': 44,\n",
       " 'TV Mysteries': 69,\n",
       " 'British TV Shows': 210,\n",
       " 'Music & Musicals': 243,\n",
       " 'Reality TV': 153,\n",
       " 'TV Action & Adventure': 126,\n",
       " 'Anime Features': 45,\n",
       " 'Teen TV Shows': 44,\n",
       " 'Faith & Spirituality': 47,\n",
       " 'Korean TV Shows': 132,\n",
       " 'Anime Series': 117,\n",
       " 'LGBTQ Movies': 60,\n",
       " 'TV Horror': 54,\n",
       " 'Movies': 56,\n",
       " 'Stand-Up Comedy & Talk Shows': 42,\n",
       " 'TV Sci-Fi & Fantasy': 68,\n",
       " 'Classic Movies': 84,\n",
       " 'Sports Movies': 157,\n",
       " 'TV Shows': 10,\n",
       " 'Classic & Cult TV': 24}"
      ]
     },
     "execution_count": 257,
     "metadata": {},
     "output_type": "execute_result"
    }
   ],
   "source": [
    "res_2={}\n",
    "for el in all_genres:\n",
    "    res_2[el] = all_genres.count(el)  #подсчет количества вхождений каждого жанра в общий список жанров\n",
    "res_2"
   ]
  },
  {
   "cell_type": "code",
   "execution_count": 256,
   "metadata": {},
   "outputs": [
    {
     "data": {
      "text/html": [
       "<div>\n",
       "<style scoped>\n",
       "    .dataframe tbody tr th:only-of-type {\n",
       "        vertical-align: middle;\n",
       "    }\n",
       "\n",
       "    .dataframe tbody tr th {\n",
       "        vertical-align: top;\n",
       "    }\n",
       "\n",
       "    .dataframe thead th {\n",
       "        text-align: right;\n",
       "    }\n",
       "</style>\n",
       "<table border=\"1\" class=\"dataframe\">\n",
       "  <thead>\n",
       "    <tr style=\"text-align: right;\">\n",
       "      <th></th>\n",
       "      <th>index</th>\n",
       "      <th>0</th>\n",
       "    </tr>\n",
       "  </thead>\n",
       "  <tbody>\n",
       "    <tr>\n",
       "      <th>0</th>\n",
       "      <td>Children &amp; Family Movies</td>\n",
       "      <td>378</td>\n",
       "    </tr>\n",
       "    <tr>\n",
       "      <th>1</th>\n",
       "      <td>Comedies</td>\n",
       "      <td>1113</td>\n",
       "    </tr>\n",
       "    <tr>\n",
       "      <th>2</th>\n",
       "      <td>Stand-Up Comedy</td>\n",
       "      <td>281</td>\n",
       "    </tr>\n",
       "    <tr>\n",
       "      <th>3</th>\n",
       "      <td>Kids' TV</td>\n",
       "      <td>328</td>\n",
       "    </tr>\n",
       "    <tr>\n",
       "      <th>4</th>\n",
       "      <td>Crime TV Shows</td>\n",
       "      <td>363</td>\n",
       "    </tr>\n",
       "  </tbody>\n",
       "</table>\n",
       "</div>"
      ],
      "text/plain": [
       "                      index     0\n",
       "0  Children & Family Movies   378\n",
       "1                  Comedies  1113\n",
       "2           Stand-Up Comedy   281\n",
       "3                  Kids' TV   328\n",
       "4            Crime TV Shows   363"
      ]
     },
     "execution_count": 256,
     "metadata": {},
     "output_type": "execute_result"
    }
   ],
   "source": [
    "our_table_genres = pd.DataFrame()\n",
    "our_table_genres = pd.concat([our_table_genres, pd.DataFrame([res_2])]).T\n",
    "our_table_genres.reset_index().head(5)"
   ]
  },
  {
   "cell_type": "code",
   "execution_count": 259,
   "metadata": {},
   "outputs": [
    {
     "data": {
      "text/html": [
       "<div>\n",
       "<style scoped>\n",
       "    .dataframe tbody tr th:only-of-type {\n",
       "        vertical-align: middle;\n",
       "    }\n",
       "\n",
       "    .dataframe tbody tr th {\n",
       "        vertical-align: top;\n",
       "    }\n",
       "\n",
       "    .dataframe thead th {\n",
       "        text-align: right;\n",
       "    }\n",
       "</style>\n",
       "<table border=\"1\" class=\"dataframe\">\n",
       "  <thead>\n",
       "    <tr style=\"text-align: right;\">\n",
       "      <th></th>\n",
       "      <th>Количество</th>\n",
       "    </tr>\n",
       "  </thead>\n",
       "  <tbody>\n",
       "    <tr>\n",
       "      <th>Children &amp; Family Movies</th>\n",
       "      <td>378</td>\n",
       "    </tr>\n",
       "    <tr>\n",
       "      <th>Comedies</th>\n",
       "      <td>1113</td>\n",
       "    </tr>\n",
       "    <tr>\n",
       "      <th>Stand-Up Comedy</th>\n",
       "      <td>281</td>\n",
       "    </tr>\n",
       "    <tr>\n",
       "      <th>Kids' TV</th>\n",
       "      <td>328</td>\n",
       "    </tr>\n",
       "    <tr>\n",
       "      <th>Crime TV Shows</th>\n",
       "      <td>363</td>\n",
       "    </tr>\n",
       "  </tbody>\n",
       "</table>\n",
       "</div>"
      ],
      "text/plain": [
       "                          Количество\n",
       "Children & Family Movies         378\n",
       "Comedies                        1113\n",
       "Stand-Up Comedy                  281\n",
       "Kids' TV                         328\n",
       "Crime TV Shows                   363"
      ]
     },
     "execution_count": 259,
     "metadata": {},
     "output_type": "execute_result"
    }
   ],
   "source": [
    "our_table_genres.rename(columns={0:'Количество'}, inplace=True)\n",
    "our_table_genres.head()"
   ]
  },
  {
   "cell_type": "code",
   "execution_count": 260,
   "metadata": {},
   "outputs": [
    {
     "data": {
      "text/html": [
       "<div>\n",
       "<style scoped>\n",
       "    .dataframe tbody tr th:only-of-type {\n",
       "        vertical-align: middle;\n",
       "    }\n",
       "\n",
       "    .dataframe tbody tr th {\n",
       "        vertical-align: top;\n",
       "    }\n",
       "\n",
       "    .dataframe thead th {\n",
       "        text-align: right;\n",
       "    }\n",
       "</style>\n",
       "<table border=\"1\" class=\"dataframe\">\n",
       "  <thead>\n",
       "    <tr style=\"text-align: right;\">\n",
       "      <th></th>\n",
       "      <th>Количество</th>\n",
       "    </tr>\n",
       "  </thead>\n",
       "  <tbody>\n",
       "    <tr>\n",
       "      <th>International Movies</th>\n",
       "      <td>1927</td>\n",
       "    </tr>\n",
       "    <tr>\n",
       "      <th>Dramas</th>\n",
       "      <td>1623</td>\n",
       "    </tr>\n",
       "    <tr>\n",
       "      <th>Comedies</th>\n",
       "      <td>1113</td>\n",
       "    </tr>\n",
       "    <tr>\n",
       "      <th>International TV Shows</th>\n",
       "      <td>1001</td>\n",
       "    </tr>\n",
       "    <tr>\n",
       "      <th>Documentaries</th>\n",
       "      <td>668</td>\n",
       "    </tr>\n",
       "    <tr>\n",
       "      <th>TV Dramas</th>\n",
       "      <td>599</td>\n",
       "    </tr>\n",
       "    <tr>\n",
       "      <th>Action &amp; Adventure</th>\n",
       "      <td>597</td>\n",
       "    </tr>\n",
       "    <tr>\n",
       "      <th>Independent Movies</th>\n",
       "      <td>552</td>\n",
       "    </tr>\n",
       "    <tr>\n",
       "      <th>TV Comedies</th>\n",
       "      <td>436</td>\n",
       "    </tr>\n",
       "    <tr>\n",
       "      <th>Thrillers</th>\n",
       "      <td>392</td>\n",
       "    </tr>\n",
       "  </tbody>\n",
       "</table>\n",
       "</div>"
      ],
      "text/plain": [
       "                        Количество\n",
       "International Movies          1927\n",
       "Dramas                        1623\n",
       "Comedies                      1113\n",
       "International TV Shows        1001\n",
       "Documentaries                  668\n",
       "TV Dramas                      599\n",
       "Action & Adventure             597\n",
       "Independent Movies             552\n",
       "TV Comedies                    436\n",
       "Thrillers                      392"
      ]
     },
     "execution_count": 260,
     "metadata": {},
     "output_type": "execute_result"
    }
   ],
   "source": [
    "TOP_10_genre = our_table_genres.sort_values('Количество', ascending=False).head(10)\n",
    "TOP_10_genre.head(10)"
   ]
  },
  {
   "cell_type": "code",
   "execution_count": 262,
   "metadata": {},
   "outputs": [
    {
     "data": {
      "text/plain": [
       "Index(['International Movies', 'Dramas', 'Comedies', 'International TV Shows',\n",
       "       'Documentaries', 'TV Dramas', 'Action & Adventure',\n",
       "       'Independent Movies', 'TV Comedies', 'Thrillers'],\n",
       "      dtype='object')"
      ]
     },
     "execution_count": 262,
     "metadata": {},
     "output_type": "execute_result"
    }
   ],
   "source": [
    "TOP_10_genre.index"
   ]
  },
  {
   "cell_type": "code",
   "execution_count": 265,
   "metadata": {},
   "outputs": [
    {
     "data": {
      "text/plain": [
       "International Movies      1927\n",
       "Dramas                    1623\n",
       "Comedies                  1113\n",
       "International TV Shows    1001\n",
       "Documentaries              668\n",
       "TV Dramas                  599\n",
       "Action & Adventure         597\n",
       "Independent Movies         552\n",
       "TV Comedies                436\n",
       "Thrillers                  392\n",
       "Name: Количество, dtype: int64"
      ]
     },
     "execution_count": 265,
     "metadata": {},
     "output_type": "execute_result"
    }
   ],
   "source": [
    "TOP_10_genre['Количество']"
   ]
  },
  {
   "cell_type": "markdown",
   "metadata": {},
   "source": [
    "## Выведем гистраграмму ТОП-10 жанров   в датасете Netflix"
   ]
  },
  {
   "cell_type": "code",
   "execution_count": 266,
   "metadata": {},
   "outputs": [
    {
     "data": {
      "text/plain": [
       "[Text(0, 0, 'International Movies'),\n",
       " Text(1, 0, 'Dramas'),\n",
       " Text(2, 0, 'Comedies'),\n",
       " Text(3, 0, 'International TV Shows'),\n",
       " Text(4, 0, 'Documentaries'),\n",
       " Text(5, 0, 'TV Dramas'),\n",
       " Text(6, 0, 'Action & Adventure'),\n",
       " Text(7, 0, 'Independent Movies'),\n",
       " Text(8, 0, 'TV Comedies'),\n",
       " Text(9, 0, 'Thrillers')]"
      ]
     },
     "execution_count": 266,
     "metadata": {},
     "output_type": "execute_result"
    },
    {
     "data": {
      "image/png": "[encoded data removed]",
      "text/plain": [
       "<Figure size 936x432 with 1 Axes>"
      ]
     },
     "metadata": {
      "needs_background": "light"
     },
     "output_type": "display_data"
    }
   ],
   "source": [
    "chart = TOP_10_genre.plot(kind='bar', xlabel='Жанры', title='ТОП-10 жанров Netflix', color='g')\n",
    "chart.grid()\n",
    "chart.set_xticklabels(chart.get_xticklabels(), rotation=45)"
   ]
  },
  {
   "cell_type": "code",
   "execution_count": 267,
   "metadata": {},
   "outputs": [
    {
     "name": "stdout",
     "output_type": "stream",
     "text": [
      "7179\n"
     ]
    }
   ],
   "source": [
    "list_countries = list(df.country)\n",
    "\n",
    "all_countries=[]    #список всех стран-производителей киноконтента в датасете\n",
    "for index in range(len(list_countries)):\n",
    "    if type(list_countries[index])!= float:\n",
    "        if list_countries[index].find(','):\n",
    "            all_countries.extend(list_countries[index].split(', '))\n",
    "        \n",
    "print(len(all_countries))"
   ]
  },
  {
   "cell_type": "code",
   "execution_count": 268,
   "metadata": {},
   "outputs": [
    {
     "data": {
      "text/plain": [
       "{'United States': 2609,\n",
       " 'India': 838,\n",
       " 'South Korea': 162,\n",
       " 'China': 120,\n",
       " 'United Kingdom': 601,\n",
       " 'Spain': 178,\n",
       " 'Bulgaria': 8,\n",
       " 'Canada': 318,\n",
       " 'Chile': 23,\n",
       " 'Denmark': 38,\n",
       " 'Sweden': 33,\n",
       " 'Netherlands': 37,\n",
       " 'Belgium': 66,\n",
       " 'France': 271,\n",
       " 'Uruguay': 9,\n",
       " 'United States,': 1,\n",
       " 'Thailand': 56,\n",
       " 'Pakistan': 23,\n",
       " 'Turkey': 87,\n",
       " 'Brazil': 66,\n",
       " 'Italy': 67,\n",
       " 'Indonesia': 52,\n",
       " 'Ireland': 33,\n",
       " 'Hong Kong': 97,\n",
       " 'Morocco': 6,\n",
       " 'Mexico': 129,\n",
       " 'Vietnam': 4,\n",
       " 'Argentina': 68,\n",
       " 'Nigeria': 36,\n",
       " 'Japan': 231,\n",
       " 'Germany': 151,\n",
       " 'Greece': 8,\n",
       " 'Norway': 21,\n",
       " 'Switzerland': 15,\n",
       " 'United Arab Emirates': 21,\n",
       " 'Lebanon': 9,\n",
       " 'Cambodia': 3,\n",
       " 'Russia': 21,\n",
       " 'Poland': 26,\n",
       " 'Israel': 26,\n",
       " 'Australia': 126,\n",
       " 'Portugal': 4,\n",
       " 'Egypt': 54,\n",
       " 'Taiwan': 75,\n",
       " 'Austria': 10,\n",
       " 'Czech Republic': 15,\n",
       " 'Senegal': 2,\n",
       " 'Soviet Union': 3,\n",
       " 'Peru': 9,\n",
       " 'Ukraine': 3,\n",
       " 'Malaysia': 21,\n",
       " 'South Africa': 30,\n",
       " 'Nepal': 2,\n",
       " 'Philippines': 47,\n",
       " 'Serbia': 5,\n",
       " 'Colombia': 36,\n",
       " 'Singapore': 30,\n",
       " 'Luxembourg': 7,\n",
       " 'West Germany': 5,\n",
       " 'Cayman Islands': 1,\n",
       " 'New Zealand': 23,\n",
       " 'Venezuela': 3,\n",
       " 'Jordan': 6,\n",
       " 'Saudi Arabia': 2,\n",
       " 'Iceland': 6,\n",
       " 'Poland,': 1,\n",
       " 'Malta': 2,\n",
       " 'Qatar': 6,\n",
       " 'United Kingdom,': 1,\n",
       " 'Iran': 4,\n",
       " 'Finland': 9,\n",
       " 'Iraq': 2,\n",
       " 'Liechtenstein': 1,\n",
       " 'Albania': 1,\n",
       " 'Slovakia': 1,\n",
       " 'Samoa': 1,\n",
       " 'Ghana': 2,\n",
       " 'Botswana': 1,\n",
       " 'Hungary': 5,\n",
       " 'Guatemala': 1,\n",
       " 'Malawi': 1,\n",
       " 'Paraguay': 1,\n",
       " 'Somalia': 1,\n",
       " 'Kenya': 1,\n",
       " 'Sudan': 1,\n",
       " 'Sri Lanka': 1,\n",
       " 'Dominican Republic': 2,\n",
       " 'Panama': 1,\n",
       " 'Romania': 6,\n",
       " 'Latvia': 1,\n",
       " 'Uganda': 1,\n",
       " 'Slovenia': 3,\n",
       " 'Croatia': 4,\n",
       " 'Montenegro': 1,\n",
       " 'Bangladesh': 3,\n",
       " 'Vatican City': 1,\n",
       " 'East Germany': 1,\n",
       " 'Afghanistan': 1,\n",
       " 'Georgia': 2,\n",
       " 'Namibia': 1,\n",
       " 'Zimbabwe': 2,\n",
       " 'Cuba': 1,\n",
       " 'Azerbaijan': 1,\n",
       " 'Mauritius': 1,\n",
       " 'Nicaragua': 1,\n",
       " 'Kazakhstan': 1,\n",
       " 'Armenia': 1,\n",
       " 'Mongolia': 1,\n",
       " 'Bermuda': 1,\n",
       " 'Ecuador': 1,\n",
       " 'Syria': 1,\n",
       " 'Kuwait': 1,\n",
       " 'Cyprus': 1}"
      ]
     },
     "execution_count": 268,
     "metadata": {},
     "output_type": "execute_result"
    }
   ],
   "source": [
    "res_3={}\n",
    "for el in all_countries:\n",
    "    res_3[el] = all_countries.count(el)  #подсчет количества вхождений каждой страны в общий список стран\n",
    "res_3"
   ]
  },
  {
   "cell_type": "code",
   "execution_count": 269,
   "metadata": {},
   "outputs": [
    {
     "data": {
      "text/html": [
       "<div>\n",
       "<style scoped>\n",
       "    .dataframe tbody tr th:only-of-type {\n",
       "        vertical-align: middle;\n",
       "    }\n",
       "\n",
       "    .dataframe tbody tr th {\n",
       "        vertical-align: top;\n",
       "    }\n",
       "\n",
       "    .dataframe thead th {\n",
       "        text-align: right;\n",
       "    }\n",
       "</style>\n",
       "<table border=\"1\" class=\"dataframe\">\n",
       "  <thead>\n",
       "    <tr style=\"text-align: right;\">\n",
       "      <th></th>\n",
       "      <th>0</th>\n",
       "    </tr>\n",
       "  </thead>\n",
       "  <tbody>\n",
       "    <tr>\n",
       "      <th>United States</th>\n",
       "      <td>2609</td>\n",
       "    </tr>\n",
       "    <tr>\n",
       "      <th>India</th>\n",
       "      <td>838</td>\n",
       "    </tr>\n",
       "    <tr>\n",
       "      <th>South Korea</th>\n",
       "      <td>162</td>\n",
       "    </tr>\n",
       "    <tr>\n",
       "      <th>China</th>\n",
       "      <td>120</td>\n",
       "    </tr>\n",
       "    <tr>\n",
       "      <th>United Kingdom</th>\n",
       "      <td>601</td>\n",
       "    </tr>\n",
       "  </tbody>\n",
       "</table>\n",
       "</div>"
      ],
      "text/plain": [
       "                   0\n",
       "United States   2609\n",
       "India            838\n",
       "South Korea      162\n",
       "China            120\n",
       "United Kingdom   601"
      ]
     },
     "execution_count": 269,
     "metadata": {},
     "output_type": "execute_result"
    }
   ],
   "source": [
    "our_table_countries = pd.DataFrame()\n",
    "our_table_countries = pd.concat([our_table_countries, pd.DataFrame([res_3])]).T\n",
    "our_table_countries.head()"
   ]
  },
  {
   "cell_type": "code",
   "execution_count": 270,
   "metadata": {},
   "outputs": [
    {
     "data": {
      "text/html": [
       "<div>\n",
       "<style scoped>\n",
       "    .dataframe tbody tr th:only-of-type {\n",
       "        vertical-align: middle;\n",
       "    }\n",
       "\n",
       "    .dataframe tbody tr th {\n",
       "        vertical-align: top;\n",
       "    }\n",
       "\n",
       "    .dataframe thead th {\n",
       "        text-align: right;\n",
       "    }\n",
       "</style>\n",
       "<table border=\"1\" class=\"dataframe\">\n",
       "  <thead>\n",
       "    <tr style=\"text-align: right;\">\n",
       "      <th></th>\n",
       "      <th>Количество</th>\n",
       "    </tr>\n",
       "  </thead>\n",
       "  <tbody>\n",
       "    <tr>\n",
       "      <th>United States</th>\n",
       "      <td>2609</td>\n",
       "    </tr>\n",
       "    <tr>\n",
       "      <th>India</th>\n",
       "      <td>838</td>\n",
       "    </tr>\n",
       "    <tr>\n",
       "      <th>South Korea</th>\n",
       "      <td>162</td>\n",
       "    </tr>\n",
       "    <tr>\n",
       "      <th>China</th>\n",
       "      <td>120</td>\n",
       "    </tr>\n",
       "    <tr>\n",
       "      <th>United Kingdom</th>\n",
       "      <td>601</td>\n",
       "    </tr>\n",
       "  </tbody>\n",
       "</table>\n",
       "</div>"
      ],
      "text/plain": [
       "                Количество\n",
       "United States         2609\n",
       "India                  838\n",
       "South Korea            162\n",
       "China                  120\n",
       "United Kingdom         601"
      ]
     },
     "execution_count": 270,
     "metadata": {},
     "output_type": "execute_result"
    }
   ],
   "source": [
    "our_table_countries.rename(columns={0:'Количество'}, inplace=True)\n",
    "our_table_countries.head()"
   ]
  },
  {
   "cell_type": "code",
   "execution_count": 271,
   "metadata": {},
   "outputs": [
    {
     "data": {
      "text/html": [
       "<div>\n",
       "<style scoped>\n",
       "    .dataframe tbody tr th:only-of-type {\n",
       "        vertical-align: middle;\n",
       "    }\n",
       "\n",
       "    .dataframe tbody tr th {\n",
       "        vertical-align: top;\n",
       "    }\n",
       "\n",
       "    .dataframe thead th {\n",
       "        text-align: right;\n",
       "    }\n",
       "</style>\n",
       "<table border=\"1\" class=\"dataframe\">\n",
       "  <thead>\n",
       "    <tr style=\"text-align: right;\">\n",
       "      <th></th>\n",
       "      <th>Количество</th>\n",
       "    </tr>\n",
       "  </thead>\n",
       "  <tbody>\n",
       "    <tr>\n",
       "      <th>France</th>\n",
       "      <td>271</td>\n",
       "    </tr>\n",
       "    <tr>\n",
       "      <th>Canada</th>\n",
       "      <td>318</td>\n",
       "    </tr>\n",
       "    <tr>\n",
       "      <th>United Kingdom</th>\n",
       "      <td>601</td>\n",
       "    </tr>\n",
       "    <tr>\n",
       "      <th>India</th>\n",
       "      <td>838</td>\n",
       "    </tr>\n",
       "    <tr>\n",
       "      <th>United States</th>\n",
       "      <td>2609</td>\n",
       "    </tr>\n",
       "  </tbody>\n",
       "</table>\n",
       "</div>"
      ],
      "text/plain": [
       "                Количество\n",
       "France                 271\n",
       "Canada                 318\n",
       "United Kingdom         601\n",
       "India                  838\n",
       "United States         2609"
      ]
     },
     "execution_count": 271,
     "metadata": {},
     "output_type": "execute_result"
    }
   ],
   "source": [
    "TOP_5_countries = our_table_countries.sort_values('Количество', ascending=False).head(5)\n",
    "TOP_5_vs2 = TOP_5_countries.sort_values('Количество', ascending=True)\n",
    "TOP_5_vs2.head()"
   ]
  },
  {
   "cell_type": "markdown",
   "metadata": {},
   "source": [
    "## Выведем гистраграмму ТОП-5 стран-производителей  фильмов и сериалов в датасете Netflix"
   ]
  },
  {
   "cell_type": "code",
   "execution_count": 272,
   "metadata": {},
   "outputs": [
    {
     "data": {
      "image/png": "[encoded data removed]",
      "text/plain": [
       "<Figure size 936x432 with 1 Axes>"
      ]
     },
     "metadata": {
      "needs_background": "light"
     },
     "output_type": "display_data"
    }
   ],
   "source": [
    "chart_2 = TOP_5_vs2.plot(kind='barh', xlabel='Страны', color='yellow', title='ТОП-5 производителей киноконтента Netflix')\n",
    "chart_2.grid()"
   ]
  },
  {
   "cell_type": "code",
   "execution_count": 273,
   "metadata": {},
   "outputs": [],
   "source": [
    "#найдем жанры кино и сериалов встречаемы в датасете\n",
    "\n",
    "genres = np.array([], dtype=str)\n",
    "for l in df['listed_in']:\n",
    "    genres = np.append(genres, l.split(', '))"
   ]
  },
  {
   "cell_type": "code",
   "execution_count": 274,
   "metadata": {},
   "outputs": [
    {
     "data": {
      "text/plain": [
       "array(['Action & Adventure', 'Anime Features', 'Anime Series',\n",
       "       'British TV Shows', 'Children & Family Movies',\n",
       "       'Classic & Cult TV', 'Classic Movies', 'Comedies',\n",
       "       'Crime TV Shows', 'Cult Movies', 'Documentaries', 'Docuseries',\n",
       "       'Dramas', 'Faith & Spirituality', 'Horror Movies',\n",
       "       'Independent Movies', 'International Movies',\n",
       "       'International TV Shows', \"Kids' TV\", 'Korean TV Shows',\n",
       "       'LGBTQ Movies', 'Movies', 'Music & Musicals', 'Reality TV',\n",
       "       'Romantic Movies', 'Romantic TV Shows', 'Sci-Fi & Fantasy',\n",
       "       'Science & Nature TV', 'Spanish-Language TV Shows',\n",
       "       'Sports Movies', 'Stand-Up Comedy', 'Stand-Up Comedy & Talk Shows',\n",
       "       'TV Action & Adventure', 'TV Comedies', 'TV Dramas', 'TV Horror',\n",
       "       'TV Mysteries', 'TV Sci-Fi & Fantasy', 'TV Shows', 'TV Thrillers',\n",
       "       'Teen TV Shows', 'Thrillers'], dtype='<U28')"
      ]
     },
     "execution_count": 274,
     "metadata": {},
     "output_type": "execute_result"
    }
   ],
   "source": [
    "genres = np.unique(genres)\n",
    "genres"
   ]
  },
  {
   "cell_type": "code",
   "execution_count": 275,
   "metadata": {},
   "outputs": [],
   "source": [
    "for genre in genres:\n",
    "    df[genre] = 0\n",
    "    for index, listed_in in enumerate(df['listed_in']):\n",
    "        if genre in listed_in:\n",
    "            df.loc[index, genre] = 1"
   ]
  },
  {
   "cell_type": "code",
   "execution_count": 276,
   "metadata": {},
   "outputs": [
    {
     "data": {
      "text/plain": [
       "array([2019, 2016, 2013, 2017, 2014, 2015, 2009, 2012, 2010, 2018, 2011,\n",
       "       2004, 2000, 1983, 1982, 2006, 2005, 2002, 1997, 2008, 2007, 2003,\n",
       "       1981, 1991, 1994, 1988, 1976, 1973, 1974, 1989, 1986, 1984, 1978,\n",
       "       1998, 1972, 1979, 1960, 1959, 2001, 1995, 1992, 1990, 1975, 1985,\n",
       "       1980, 1970, 1996, 1967, 1999, 1987, 1968, 1993, 2020, 1958, 1965,\n",
       "       1956, 1962, 1955, 1977, 1945, 1946, 1942, 1944, 1947, 1943, 1969,\n",
       "       1954, 1966, 1971, 1964, 1925, 1963], dtype=int64)"
      ]
     },
     "execution_count": 276,
     "metadata": {},
     "output_type": "execute_result"
    }
   ],
   "source": [
    "pd.unique(df['release_year'])"
   ]
  },
  {
   "cell_type": "code",
   "execution_count": 277,
   "metadata": {},
   "outputs": [],
   "source": [
    "df_genres = pd.DataFrame({'year': pd.unique(df['release_year'])})\n",
    "for genre in genres:\n",
    "    df_genres[genre] = 0\n",
    "    gb = df.groupby(['release_year'])[genre].sum()\n",
    "    for index in range(len(df_genres)):\n",
    "        df_genres.loc[index, genre] = gb[df_genres.loc[index, 'year']]\n",
    "df_genres = df_genres.set_index('year')"
   ]
  },
  {
   "cell_type": "code",
   "execution_count": 278,
   "metadata": {},
   "outputs": [
    {
     "data": {
      "text/html": [
       "<div>\n",
       "<style scoped>\n",
       "    .dataframe tbody tr th:only-of-type {\n",
       "        vertical-align: middle;\n",
       "    }\n",
       "\n",
       "    .dataframe tbody tr th {\n",
       "        vertical-align: top;\n",
       "    }\n",
       "\n",
       "    .dataframe thead th {\n",
       "        text-align: right;\n",
       "    }\n",
       "</style>\n",
       "<table border=\"1\" class=\"dataframe\">\n",
       "  <thead>\n",
       "    <tr style=\"text-align: right;\">\n",
       "      <th></th>\n",
       "      <th>Action &amp; Adventure</th>\n",
       "      <th>Anime Features</th>\n",
       "      <th>Anime Series</th>\n",
       "      <th>British TV Shows</th>\n",
       "      <th>Children &amp; Family Movies</th>\n",
       "      <th>Classic &amp; Cult TV</th>\n",
       "      <th>Classic Movies</th>\n",
       "      <th>Comedies</th>\n",
       "      <th>Crime TV Shows</th>\n",
       "      <th>Cult Movies</th>\n",
       "      <th>...</th>\n",
       "      <th>TV Action &amp; Adventure</th>\n",
       "      <th>TV Comedies</th>\n",
       "      <th>TV Dramas</th>\n",
       "      <th>TV Horror</th>\n",
       "      <th>TV Mysteries</th>\n",
       "      <th>TV Sci-Fi &amp; Fantasy</th>\n",
       "      <th>TV Shows</th>\n",
       "      <th>TV Thrillers</th>\n",
       "      <th>Teen TV Shows</th>\n",
       "      <th>Thrillers</th>\n",
       "    </tr>\n",
       "    <tr>\n",
       "      <th>year</th>\n",
       "      <th></th>\n",
       "      <th></th>\n",
       "      <th></th>\n",
       "      <th></th>\n",
       "      <th></th>\n",
       "      <th></th>\n",
       "      <th></th>\n",
       "      <th></th>\n",
       "      <th></th>\n",
       "      <th></th>\n",
       "      <th></th>\n",
       "      <th></th>\n",
       "      <th></th>\n",
       "      <th></th>\n",
       "      <th></th>\n",
       "      <th></th>\n",
       "      <th></th>\n",
       "      <th></th>\n",
       "      <th></th>\n",
       "      <th></th>\n",
       "      <th></th>\n",
       "    </tr>\n",
       "  </thead>\n",
       "  <tbody>\n",
       "    <tr>\n",
       "      <th>2019</th>\n",
       "      <td>74</td>\n",
       "      <td>2</td>\n",
       "      <td>19</td>\n",
       "      <td>28</td>\n",
       "      <td>49</td>\n",
       "      <td>2</td>\n",
       "      <td>0</td>\n",
       "      <td>201</td>\n",
       "      <td>89</td>\n",
       "      <td>0</td>\n",
       "      <td>...</td>\n",
       "      <td>42</td>\n",
       "      <td>106</td>\n",
       "      <td>139</td>\n",
       "      <td>20</td>\n",
       "      <td>23</td>\n",
       "      <td>22</td>\n",
       "      <td>269</td>\n",
       "      <td>15</td>\n",
       "      <td>17</td>\n",
       "      <td>58</td>\n",
       "    </tr>\n",
       "    <tr>\n",
       "      <th>2016</th>\n",
       "      <td>74</td>\n",
       "      <td>4</td>\n",
       "      <td>7</td>\n",
       "      <td>29</td>\n",
       "      <td>43</td>\n",
       "      <td>2</td>\n",
       "      <td>0</td>\n",
       "      <td>176</td>\n",
       "      <td>41</td>\n",
       "      <td>1</td>\n",
       "      <td>...</td>\n",
       "      <td>9</td>\n",
       "      <td>45</td>\n",
       "      <td>73</td>\n",
       "      <td>4</td>\n",
       "      <td>6</td>\n",
       "      <td>4</td>\n",
       "      <td>172</td>\n",
       "      <td>2</td>\n",
       "      <td>4</td>\n",
       "      <td>64</td>\n",
       "    </tr>\n",
       "    <tr>\n",
       "      <th>2013</th>\n",
       "      <td>24</td>\n",
       "      <td>4</td>\n",
       "      <td>5</td>\n",
       "      <td>11</td>\n",
       "      <td>21</td>\n",
       "      <td>1</td>\n",
       "      <td>0</td>\n",
       "      <td>61</td>\n",
       "      <td>9</td>\n",
       "      <td>2</td>\n",
       "      <td>...</td>\n",
       "      <td>2</td>\n",
       "      <td>11</td>\n",
       "      <td>19</td>\n",
       "      <td>0</td>\n",
       "      <td>1</td>\n",
       "      <td>0</td>\n",
       "      <td>46</td>\n",
       "      <td>1</td>\n",
       "      <td>0</td>\n",
       "      <td>14</td>\n",
       "    </tr>\n",
       "    <tr>\n",
       "      <th>2017</th>\n",
       "      <td>83</td>\n",
       "      <td>4</td>\n",
       "      <td>9</td>\n",
       "      <td>36</td>\n",
       "      <td>41</td>\n",
       "      <td>1</td>\n",
       "      <td>0</td>\n",
       "      <td>207</td>\n",
       "      <td>64</td>\n",
       "      <td>1</td>\n",
       "      <td>...</td>\n",
       "      <td>8</td>\n",
       "      <td>65</td>\n",
       "      <td>85</td>\n",
       "      <td>5</td>\n",
       "      <td>13</td>\n",
       "      <td>6</td>\n",
       "      <td>186</td>\n",
       "      <td>4</td>\n",
       "      <td>5</td>\n",
       "      <td>64</td>\n",
       "    </tr>\n",
       "    <tr>\n",
       "      <th>2014</th>\n",
       "      <td>23</td>\n",
       "      <td>2</td>\n",
       "      <td>6</td>\n",
       "      <td>7</td>\n",
       "      <td>21</td>\n",
       "      <td>0</td>\n",
       "      <td>0</td>\n",
       "      <td>74</td>\n",
       "      <td>11</td>\n",
       "      <td>0</td>\n",
       "      <td>...</td>\n",
       "      <td>3</td>\n",
       "      <td>14</td>\n",
       "      <td>22</td>\n",
       "      <td>2</td>\n",
       "      <td>1</td>\n",
       "      <td>4</td>\n",
       "      <td>56</td>\n",
       "      <td>1</td>\n",
       "      <td>2</td>\n",
       "      <td>31</td>\n",
       "    </tr>\n",
       "    <tr>\n",
       "      <th>...</th>\n",
       "      <td>...</td>\n",
       "      <td>...</td>\n",
       "      <td>...</td>\n",
       "      <td>...</td>\n",
       "      <td>...</td>\n",
       "      <td>...</td>\n",
       "      <td>...</td>\n",
       "      <td>...</td>\n",
       "      <td>...</td>\n",
       "      <td>...</td>\n",
       "      <td>...</td>\n",
       "      <td>...</td>\n",
       "      <td>...</td>\n",
       "      <td>...</td>\n",
       "      <td>...</td>\n",
       "      <td>...</td>\n",
       "      <td>...</td>\n",
       "      <td>...</td>\n",
       "      <td>...</td>\n",
       "      <td>...</td>\n",
       "      <td>...</td>\n",
       "    </tr>\n",
       "    <tr>\n",
       "      <th>1966</th>\n",
       "      <td>0</td>\n",
       "      <td>0</td>\n",
       "      <td>0</td>\n",
       "      <td>0</td>\n",
       "      <td>0</td>\n",
       "      <td>0</td>\n",
       "      <td>0</td>\n",
       "      <td>0</td>\n",
       "      <td>0</td>\n",
       "      <td>0</td>\n",
       "      <td>...</td>\n",
       "      <td>0</td>\n",
       "      <td>0</td>\n",
       "      <td>0</td>\n",
       "      <td>0</td>\n",
       "      <td>0</td>\n",
       "      <td>0</td>\n",
       "      <td>0</td>\n",
       "      <td>0</td>\n",
       "      <td>0</td>\n",
       "      <td>0</td>\n",
       "    </tr>\n",
       "    <tr>\n",
       "      <th>1971</th>\n",
       "      <td>1</td>\n",
       "      <td>0</td>\n",
       "      <td>0</td>\n",
       "      <td>0</td>\n",
       "      <td>1</td>\n",
       "      <td>0</td>\n",
       "      <td>2</td>\n",
       "      <td>1</td>\n",
       "      <td>0</td>\n",
       "      <td>1</td>\n",
       "      <td>...</td>\n",
       "      <td>0</td>\n",
       "      <td>0</td>\n",
       "      <td>0</td>\n",
       "      <td>0</td>\n",
       "      <td>0</td>\n",
       "      <td>0</td>\n",
       "      <td>0</td>\n",
       "      <td>0</td>\n",
       "      <td>0</td>\n",
       "      <td>0</td>\n",
       "    </tr>\n",
       "    <tr>\n",
       "      <th>1964</th>\n",
       "      <td>0</td>\n",
       "      <td>0</td>\n",
       "      <td>0</td>\n",
       "      <td>0</td>\n",
       "      <td>0</td>\n",
       "      <td>0</td>\n",
       "      <td>1</td>\n",
       "      <td>0</td>\n",
       "      <td>0</td>\n",
       "      <td>0</td>\n",
       "      <td>...</td>\n",
       "      <td>0</td>\n",
       "      <td>0</td>\n",
       "      <td>0</td>\n",
       "      <td>0</td>\n",
       "      <td>0</td>\n",
       "      <td>0</td>\n",
       "      <td>0</td>\n",
       "      <td>0</td>\n",
       "      <td>0</td>\n",
       "      <td>0</td>\n",
       "    </tr>\n",
       "    <tr>\n",
       "      <th>1925</th>\n",
       "      <td>0</td>\n",
       "      <td>0</td>\n",
       "      <td>0</td>\n",
       "      <td>0</td>\n",
       "      <td>0</td>\n",
       "      <td>0</td>\n",
       "      <td>0</td>\n",
       "      <td>0</td>\n",
       "      <td>0</td>\n",
       "      <td>0</td>\n",
       "      <td>...</td>\n",
       "      <td>0</td>\n",
       "      <td>0</td>\n",
       "      <td>0</td>\n",
       "      <td>0</td>\n",
       "      <td>0</td>\n",
       "      <td>0</td>\n",
       "      <td>1</td>\n",
       "      <td>0</td>\n",
       "      <td>0</td>\n",
       "      <td>0</td>\n",
       "    </tr>\n",
       "    <tr>\n",
       "      <th>1963</th>\n",
       "      <td>0</td>\n",
       "      <td>0</td>\n",
       "      <td>0</td>\n",
       "      <td>0</td>\n",
       "      <td>0</td>\n",
       "      <td>1</td>\n",
       "      <td>0</td>\n",
       "      <td>0</td>\n",
       "      <td>0</td>\n",
       "      <td>0</td>\n",
       "      <td>...</td>\n",
       "      <td>0</td>\n",
       "      <td>0</td>\n",
       "      <td>0</td>\n",
       "      <td>0</td>\n",
       "      <td>0</td>\n",
       "      <td>1</td>\n",
       "      <td>0</td>\n",
       "      <td>0</td>\n",
       "      <td>0</td>\n",
       "      <td>0</td>\n",
       "    </tr>\n",
       "  </tbody>\n",
       "</table>\n",
       "<p>72 rows × 42 columns</p>\n",
       "</div>"
      ],
      "text/plain": [
       "      Action & Adventure  Anime Features  Anime Series  British TV Shows  \\\n",
       "year                                                                       \n",
       "2019                  74               2            19                28   \n",
       "2016                  74               4             7                29   \n",
       "2013                  24               4             5                11   \n",
       "2017                  83               4             9                36   \n",
       "2014                  23               2             6                 7   \n",
       "...                  ...             ...           ...               ...   \n",
       "1966                   0               0             0                 0   \n",
       "1971                   1               0             0                 0   \n",
       "1964                   0               0             0                 0   \n",
       "1925                   0               0             0                 0   \n",
       "1963                   0               0             0                 0   \n",
       "\n",
       "      Children & Family Movies  Classic & Cult TV  Classic Movies  Comedies  \\\n",
       "year                                                                          \n",
       "2019                        49                  2               0       201   \n",
       "2016                        43                  2               0       176   \n",
       "2013                        21                  1               0        61   \n",
       "2017                        41                  1               0       207   \n",
       "2014                        21                  0               0        74   \n",
       "...                        ...                ...             ...       ...   \n",
       "1966                         0                  0               0         0   \n",
       "1971                         1                  0               2         1   \n",
       "1964                         0                  0               1         0   \n",
       "1925                         0                  0               0         0   \n",
       "1963                         0                  1               0         0   \n",
       "\n",
       "      Crime TV Shows  Cult Movies  ...  TV Action & Adventure  TV Comedies  \\\n",
       "year                               ...                                       \n",
       "2019              89            0  ...                     42          106   \n",
       "2016              41            1  ...                      9           45   \n",
       "2013               9            2  ...                      2           11   \n",
       "2017              64            1  ...                      8           65   \n",
       "2014              11            0  ...                      3           14   \n",
       "...              ...          ...  ...                    ...          ...   \n",
       "1966               0            0  ...                      0            0   \n",
       "1971               0            1  ...                      0            0   \n",
       "1964               0            0  ...                      0            0   \n",
       "1925               0            0  ...                      0            0   \n",
       "1963               0            0  ...                      0            0   \n",
       "\n",
       "      TV Dramas  TV Horror  TV Mysteries  TV Sci-Fi & Fantasy  TV Shows  \\\n",
       "year                                                                      \n",
       "2019        139         20            23                   22       269   \n",
       "2016         73          4             6                    4       172   \n",
       "2013         19          0             1                    0        46   \n",
       "2017         85          5            13                    6       186   \n",
       "2014         22          2             1                    4        56   \n",
       "...         ...        ...           ...                  ...       ...   \n",
       "1966          0          0             0                    0         0   \n",
       "1971          0          0             0                    0         0   \n",
       "1964          0          0             0                    0         0   \n",
       "1925          0          0             0                    0         1   \n",
       "1963          0          0             0                    1         0   \n",
       "\n",
       "      TV Thrillers  Teen TV Shows  Thrillers  \n",
       "year                                          \n",
       "2019            15             17         58  \n",
       "2016             2              4         64  \n",
       "2013             1              0         14  \n",
       "2017             4              5         64  \n",
       "2014             1              2         31  \n",
       "...            ...            ...        ...  \n",
       "1966             0              0          0  \n",
       "1971             0              0          0  \n",
       "1964             0              0          0  \n",
       "1925             0              0          0  \n",
       "1963             0              0          0  \n",
       "\n",
       "[72 rows x 42 columns]"
      ]
     },
     "execution_count": 278,
     "metadata": {},
     "output_type": "execute_result"
    }
   ],
   "source": [
    "df_genres"
   ]
  },
  {
   "cell_type": "markdown",
   "metadata": {},
   "source": [
    "## График развития жанров за последние 10 лет"
   ]
  },
  {
   "cell_type": "code",
   "execution_count": 279,
   "metadata": {},
   "outputs": [
    {
     "name": "stderr",
     "output_type": "stream",
     "text": [
      "<ipython-input-279-362d88d568a8>:2: FutureWarning: Indexing with multiple keys (implicitly converted to a tuple of keys) will be deprecated, use a list instead.\n",
      "  gb = df.loc[df['release_year'] > 2010 ].groupby(['release_year'])[genre].sum()\n"
     ]
    },
    {
     "data": {
      "image/png": "[encoded data removed]",
      "text/plain": [
       "<Figure size 936x432 with 1 Axes>"
      ]
     },
     "metadata": {
      "needs_background": "light"
     },
     "output_type": "display_data"
    }
   ],
   "source": [
    "genre = 'Dramas', 'TV Dramas', 'Thrillers', 'TV Thrillers' \n",
    "gb = df.loc[df['release_year'] > 2010 ].groupby(['release_year'])[genre].sum()\n",
    "x = gb.index\n",
    "y1 = gb['Dramas']\n",
    "y2 = gb['TV Dramas']\n",
    "y3 = gb['Thrillers']\n",
    "y4 = gb['TV Thrillers']\n",
    "plt.plot(x, y1, label=genre[0])\n",
    "plt.plot(x, y2, '--', label=genre[1])\n",
    "plt.plot(x, y3, '-.', label=genre[2])\n",
    "plt.plot(x, y4, ':', label=genre[3])\n",
    "plt.title('График развития жанров за последние 10 лет')\n",
    "plt.xlabel('Год')\n",
    "plt.ylabel('Количество кинорелизов')\n",
    "plt.grid()\n",
    "plt.legend(loc='upper left')\n",
    "plt.show()"
   ]
  },
  {
   "cell_type": "markdown",
   "metadata": {},
   "source": [
    "## Комментарий:\n",
    "### Мы можем указать и сравнить любые интересующение нас жанры, в зависимости от наших целей и интересов"
   ]
  },
  {
   "cell_type": "markdown",
   "metadata": {},
   "source": [
    "## Вывод:\n",
    "1. Мы можем изучить наполняемость Netflix, распределение киноконтента (фильмы, сериалы)\n",
    "2. Посмотреть графики развития киножанров на Netflix, с момента первого появления и до актуальных дней\n",
    "3. Посмотреть страны в контексте количества кинопроизводства (снятых фильмов и сериалов)\n",
    "Все это может помочь поставить цели по наполняемости контекта и выстраиванию направления развития, в зависимости от ТОП стран по производству контента, ТОП жанров киноконтента, развитие индустрии."
   ]
  },
  {
   "cell_type": "code",
   "execution_count": null,
   "metadata": {},
   "outputs": [],
   "source": []
  }
 ],
 "metadata": {
  "kernelspec": {
   "display_name": "Python 3",
   "language": "python",
   "name": "python3"
  },
  "language_info": {
   "codemirror_mode": {
    "name": "ipython",
    "version": 3
   },
   "file_extension": ".py",
   "mimetype": "text/x-python",
   "name": "python",
   "nbconvert_exporter": "python",
   "pygments_lexer": "ipython3",
   "version": "3.8.5"
  }
 },
 "nbformat": 4,
 "nbformat_minor": 4
}
